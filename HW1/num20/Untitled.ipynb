{
 "cells": [
  {
   "cell_type": "code",
   "execution_count": 15,
   "id": "3bfa3d84",
   "metadata": {},
   "outputs": [
    {
     "ename": "SyntaxError",
     "evalue": "unexpected character after line continuation character (<ipython-input-15-735906512a48>, line 9)",
     "output_type": "error",
     "traceback": [
      "\u001b[0;36m  File \u001b[0;32m\"<ipython-input-15-735906512a48>\"\u001b[0;36m, line \u001b[0;32m9\u001b[0m\n\u001b[0;31m    for line in open(~\\num20_1\\'energy.dat'):\u001b[0m\n\u001b[0m                                             ^\u001b[0m\n\u001b[0;31mSyntaxError\u001b[0m\u001b[0;31m:\u001b[0m unexpected character after line continuation character\n"
     ]
    }
   ],
   "source": [
    "import numpy as np\n",
    "import matplotlib.pyplot as plt\n",
    "\n",
    "Xtemp1, Ytemp1 = [], []\n",
    "Xtemp2, Ytemp2 = [], []\n",
    "Xtot, Ytot = [], []\n",
    "number_of_averages = 5\n",
    "\n",
    "for line in open(~\\num20_1\\'energy.dat'):\n",
    "    values2 = [float(s) for s in line.split()]\n",
    "    Xtemp1.append(values2[0])\n",
    "    Ytemp1.append(values[1])"
   ]
  },
  {
   "cell_type": "code",
   "execution_count": null,
   "id": "ea3979b7",
   "metadata": {},
   "outputs": [],
   "source": []
  },
  {
   "cell_type": "code",
   "execution_count": null,
   "id": "401a8776",
   "metadata": {},
   "outputs": [],
   "source": []
  }
 ],
 "metadata": {
  "kernelspec": {
   "display_name": "Python 3",
   "language": "python",
   "name": "python3"
  },
  "language_info": {
   "codemirror_mode": {
    "name": "ipython",
    "version": 3
   },
   "file_extension": ".py",
   "mimetype": "text/x-python",
   "name": "python",
   "nbconvert_exporter": "python",
   "pygments_lexer": "ipython3",
   "version": "3.8.8"
  }
 },
 "nbformat": 4,
 "nbformat_minor": 5
}
